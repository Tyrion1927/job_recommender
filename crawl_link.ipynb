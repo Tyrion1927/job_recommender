{
 "cells": [
  {
   "cell_type": "code",
   "execution_count": 1,
   "metadata": {},
   "outputs": [],
   "source": [
    "import csv\n",
    "from selenium import webdriver\n",
    "from bs4 import BeautifulSoup"
   ]
  },
  {
   "cell_type": "markdown",
   "metadata": {},
   "source": [
    "# Crawl link job"
   ]
  },
  {
   "cell_type": "code",
   "execution_count": 6,
   "metadata": {},
   "outputs": [
    {
     "name": "stdout",
     "output_type": "stream",
     "text": [
      "https://careerviet.vn/vi/tim-viec-lam/nhan-vien-kinh-doanh-linh-vuc-y-te.35BF60BE.html\n",
      "https://careerviet.vn/vi/tim-viec-lam/quan-ly-kinh-doanh-du-an-linh-vuc-phan-mem.35BF60E8.html\n",
      "https://careerviet.vn/vi/tim-viec-lam/chuyen-vien-chuyen-vien-xu-ly-cac-van-de-tai-chinh-mien-trung-tay-nguyen.35BF6255.html\n",
      "https://careerviet.vn/vi/tim-viec-lam/nhan-vien-trien-khai-van-hanh-du-an-khu-vuc-hue-da-nang.35BF6BC4.html\n",
      "https://careerviet.vn/vi/tim-viec-lam/nhan-vien-thiet-ke-ky-thuat-da-nang.35BF6BDA.html\n",
      "https://careerviet.vn/vi/tim-viec-lam/chuyen-vien-kinh-doanh-lam-viec-tai-quan-hai-chau-da-nang.35BF6BD7.html\n",
      "https://careerviet.vn/vi/tim-viec-lam/da-nang-chuyen-vien-khach-hang-uu-tien.35BF6B38.html\n",
      "https://careerviet.vn/vi/tim-viec-lam/giam-doc-trung-tam-khach-hang-ca-nhan-rb-msb-1d272.35BF17B3.html\n",
      "https://careerviet.vn/vi/tim-viec-lam/chuyen-vien-cao-cap-qhkh-ca-nhan-cn-da-nang.35BF1783.html\n",
      "https://careerviet.vn/vi/tim-viec-lam/cv-cvcc-khcn-khdn-kv-da-nang.35BF174E.html\n",
      "https://careerviet.vn/vi/tim-viec-lam/chuyen-vien-cao-cap-qhkh-doanh-nghiep-kv-da-nang.35BF178E.html\n",
      "https://careerviet.vn/vi/tim-viec-lam/mien-trung-truong-nhom-kinh-doanh-kenh-tien-mat.35BF5F3E.html\n"
     ]
    }
   ],
   "source": [
    "# Khai báo tên file csv và các trường sẽ được lưu vào file\n",
    "filename1 = './data/job_data_raw.csv'\n",
    "filename2 = './data/company_data_raw.csv'\n",
    "fields1 = ['link']\n",
    "fields2 = ['link', 'id_company']  \n",
    "\n",
    "# Mở file csv và ghi các trường đầu tiên vào file\n",
    "with open(filename1, 'w', newline='') as csvfile1, open(filename2, 'w', newline='') as csvfile2:\n",
    "    writer1 = csv.DictWriter(csvfile1, fieldnames=fields1)\n",
    "    writer2 = csv.DictWriter(csvfile2, fieldnames=fields2)\n",
    "    writer1.writeheader()\n",
    "    writer2.writeheader()\n",
    "    # Lặp qua từng trang để lấy link\n",
    "    for i in range(1):\n",
    "        if (i==0):\n",
    "            url = 'https://careerviet.vn/viec-lam/tat-ca-viec-lam-trang-1-vi.html'\n",
    "        else:\n",
    "            url = 'https://careerviet.vn/viec-lam/tat-ca-viec-lam-trang-'+ str(i+1) +'-vi.html'\n",
    "\n",
    "        # Khởi tạo trình duyệt Edge\n",
    "        driver = webdriver.Edge()\n",
    "\n",
    "        # Mở trang web\n",
    "        driver.get(url)\n",
    "\n",
    "        # Chờ cho trang web tải xong\n",
    "        driver.implicitly_wait(30)\n",
    "\n",
    "        # Lấy HTML của trang web\n",
    "        html = driver.page_source\n",
    "\n",
    "        # Phân tích HTML bằng BeautifulSoup\n",
    "        soup = BeautifulSoup(html, 'html.parser')\n",
    "\n",
    "        # Tìm tất cả các thẻ a chứa link job và ghi vào file csv\n",
    "        job_div_tags = soup.find_all('div', {'class': 'title is-red'})\n",
    "\n",
    "        for div_tag in job_div_tags:\n",
    "            a_tag = div_tag.find('a')\n",
    "            if a_tag:\n",
    "                href = a_tag['href']\n",
    "                print(href)\n",
    "                writer1.writerow({'link': href})\n",
    "        \n",
    "        # Find company link\n",
    "        company_div_tags = soup.find_all('div', {'class': 'caption'})\n",
    "        for div_tag in company_div_tags:\n",
    "            a_tag = div_tag.find('a', {'class': 'company-name'})\n",
    "            if a_tag:\n",
    "                href = a_tag['href']\n",
    "                id_company = href.split('.')[-2]\n",
    "                writer2.writerow({'link': href, 'id_company': id_company})\n",
    "        # Đóng trình duyệt\n",
    "        driver.quit()"
   ]
  }
 ],
 "metadata": {
  "kernelspec": {
   "display_name": "Python 3",
   "language": "python",
   "name": "python3"
  },
  "language_info": {
   "codemirror_mode": {
    "name": "ipython",
    "version": 3
   },
   "file_extension": ".py",
   "mimetype": "text/x-python",
   "name": "python",
   "nbconvert_exporter": "python",
   "pygments_lexer": "ipython3",
   "version": "3.10.10"
  }
 },
 "nbformat": 4,
 "nbformat_minor": 2
}
