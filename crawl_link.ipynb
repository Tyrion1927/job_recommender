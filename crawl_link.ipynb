{
 "cells": [
  {
   "cell_type": "code",
   "execution_count": 4,
   "metadata": {},
   "outputs": [],
   "source": [
    "import csv\n",
    "from selenium import webdriver\n",
    "from bs4 import BeautifulSoup"
   ]
  },
  {
   "cell_type": "markdown",
   "metadata": {},
   "source": [
    "# Crawl link job"
   ]
  },
  {
   "cell_type": "code",
   "execution_count": null,
   "metadata": {},
   "outputs": [],
   "source": [
    "# Khai báo tên file csv và các trường sẽ được lưu vào file\n",
    "filename = 'data.csv'\n",
    "fields = ['link']\n",
    "\n",
    "# Mở file csv và ghi các trường đầu tiên vào file\n",
    "with open(filename, 'w', newline='') as csvfile:\n",
    "    writer = csv.DictWriter(csvfile, fieldnames=fields)\n",
    "    writer.writeheader()\n",
    "\n",
    "    # Lặp qua từng trang để lấy link\n",
    "    for i in range(1):\n",
    "        if (i==0):\n",
    "            url = 'https://careerviet.vn/viec-lam/tat-ca-viec-lam-trang-1-vi.html'\n",
    "        else:\n",
    "            url = 'https://careerviet.vn/viec-lam/tat-ca-viec-lam-trang-'+ str(i+1) +'-vi.html'\n",
    "\n",
    "        # Khởi tạo trình duyệt Edge\n",
    "        driver = webdriver.Edge()\n",
    "\n",
    "        # Mở trang web\n",
    "        driver.get(url)\n",
    "\n",
    "        # Chờ cho trang web tải xong\n",
    "        driver.implicitly_wait(30)\n",
    "\n",
    "        # Lấy HTML của trang web\n",
    "        html = driver.page_source\n",
    "\n",
    "        # Phân tích HTML bằng BeautifulSoup\n",
    "        soup = BeautifulSoup(html, 'html.parser')\n",
    "\n",
    "        # Tìm tất cả các thẻ a chứa link và ghi vào file csv\n",
    "        div_tags = soup.find_all('div', {'class': 'title is-red'})\n",
    "\n",
    "        for div_tag in div_tags:\n",
    "            a_tag = div_tag.find('a')\n",
    "            if a_tag:\n",
    "                href = a_tag['href']\n",
    "                print(href)\n",
    "                writer.writerow({'link': href})\n",
    "        # Đóng trình duyệt\n",
    "        driver.quit()"
   ]
  }
 ],
 "metadata": {
  "kernelspec": {
   "display_name": "Python 3",
   "language": "python",
   "name": "python3"
  },
  "language_info": {
   "codemirror_mode": {
    "name": "ipython",
    "version": 3
   },
   "file_extension": ".py",
   "mimetype": "text/x-python",
   "name": "python",
   "nbconvert_exporter": "python",
   "pygments_lexer": "ipython3",
   "version": "3.10.10"
  }
 },
 "nbformat": 4,
 "nbformat_minor": 2
}
