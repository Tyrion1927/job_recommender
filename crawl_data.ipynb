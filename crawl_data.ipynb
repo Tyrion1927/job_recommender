{
 "cells": [
  {
   "cell_type": "code",
   "execution_count": 6,
   "metadata": {},
   "outputs": [],
   "source": [
    "import pandas as pd\n",
    "from selenium import webdriver\n",
    "from bs4 import BeautifulSoup\n",
    "import re\n",
    "import json\n",
    "\n",
    "df = pd.read_csv('data.csv')\n",
    "# get links\n",
    "links = df['link']\n",
    "# create field \n",
    "df['job_name'] = ''"
   ]
  },
  {
   "cell_type": "code",
   "execution_count": 4,
   "metadata": {},
   "outputs": [],
   "source": [
    "def get_job_name(soup):\n",
    "    #i = 0\n",
    "    div_tag = soup.find('div', {'class': 'job-desc'})\n",
    "\n",
    "    job_name = div_tag.find('h1', {'class': 'title'}).get_text()\n",
    "\n",
    "    return job_name"
   ]
  },
  {
   "cell_type": "code",
   "execution_count": 7,
   "metadata": {},
   "outputs": [
    {
     "name": "stdout",
     "output_type": "stream",
     "text": [
      "0 done\n",
      "1 done\n",
      "2 done\n",
      "3 done\n",
      "4 done\n",
      "5 done\n",
      "6 done\n",
      "7 done\n",
      "8 done\n",
      "9 done\n",
      "10 done\n",
      "11 done\n",
      "12 done\n",
      "13 done\n",
      "14 done\n"
     ]
    }
   ],
   "source": [
    "# Khởi tạo trình duyệt Edge\n",
    "driver = webdriver.Edge()\n",
    "i = 0\n",
    "# Duyệt qua từng link và lấy thông tin\n",
    "for link in links:\n",
    "    # Mở trang web\n",
    "    driver.get(link)\n",
    "\n",
    "    # Chờ cho trang web tải xong\n",
    "    driver.implicitly_wait(10)\n",
    "\n",
    "    # Lấy HTML của trang web\n",
    "    html = driver.page_source\n",
    "\n",
    "    # Phân tích HTML bằng BeautifulSoup\n",
    "    soup = BeautifulSoup(html, 'html.parser')\n",
    "\n",
    "    job_name = get_job_name(soup)\n",
    "    df['job_name'][i] = job_name\n",
    "    \n",
    "    print(str(i)+ \" done\")\n",
    "    i = i + 1\n",
    "    df.to_csv('data_no_duplicates.csv', index=False)\n",
    "\n",
    "# Đóng trình duyệt\n",
    "driver.quit()\n"
   ]
  }
 ],
 "metadata": {
  "kernelspec": {
   "display_name": "Python 3",
   "language": "python",
   "name": "python3"
  },
  "language_info": {
   "codemirror_mode": {
    "name": "ipython",
    "version": 3
   },
   "file_extension": ".py",
   "mimetype": "text/x-python",
   "name": "python",
   "nbconvert_exporter": "python",
   "pygments_lexer": "ipython3",
   "version": "3.10.10"
  }
 },
 "nbformat": 4,
 "nbformat_minor": 2
}
