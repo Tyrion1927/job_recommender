{
 "cells": [
  {
   "cell_type": "code",
   "execution_count": 1,
   "metadata": {},
   "outputs": [],
   "source": [
    "import pandas as pd\n",
    "from selenium import webdriver\n",
    "from bs4 import BeautifulSoup\n",
    "import re\n",
    "import json\n",
    "from lxml import html\n",
    "\n",
    "df = pd.read_csv('data_linkjob_test.csv')\n",
    "# get links\n",
    "links = df['link']\n",
    "# create field \n",
    "df['job_name'] = ''\n",
    "df['id_company'] = ''\n",
    "df['company_name'] = ''\n",
    "df['job_salary'] = ''\n",
    "df['job_experience'] = ''\n",
    "df['job_level'] = ''\n",
    "df['job_expired_date'] = ''\n",
    "df['job_details'] = ''\n",
    "df['job_required'] = ''"
   ]
  },
  {
   "cell_type": "code",
   "execution_count": 3,
   "metadata": {},
   "outputs": [],
   "source": [
    "def get_job_name(soup):\n",
    "    #i = 0\n",
    "    div_tag = soup.find('div', {'class': 'job-desc'})\n",
    "\n",
    "    job_name = div_tag.find('h1', {'class': 'title'}).get_text()\n",
    "\n",
    "    return job_name"
   ]
  },
  {
   "cell_type": "code",
   "execution_count": 10,
   "metadata": {},
   "outputs": [],
   "source": [
    "def get_job_id_company(soup):\n",
    "    div_tag = soup.find('div', {'class': 'job-desc'})\n",
    "    div_tag2 = div_tag.find('a', {'class': 'employer job-company-name'})\n",
    "    if div_tag2:\n",
    "        href = div_tag2['href']\n",
    "        job_id_company = href.split('.')[-2]\n",
    "    else: job_id_company = ''\n",
    "    \n",
    "    return job_id_company\n",
    "    "
   ]
  },
  {
   "cell_type": "code",
   "execution_count": 12,
   "metadata": {},
   "outputs": [],
   "source": [
    "def get_job_company_name(soup):\n",
    "    div_tag = soup.find('div', {'class': 'job-desc'})\n",
    "    a_tag = div_tag.find('a', {'class': 'employer job-company-name'})\n",
    "    if a_tag:\n",
    "        job_company = a_tag.get_text()\n",
    "    else: job_company = ''\n",
    "    \n",
    "    return job_company"
   ]
  },
  {
   "cell_type": "code",
   "execution_count": 84,
   "metadata": {},
   "outputs": [],
   "source": [
    "def get_job_salary(soup):\n",
    "    i_tag = soup.find('i', {'class': 'fa fa-usd'})\n",
    "    li_tag = i_tag.parent.parent\n",
    "    salary = li_tag.find('p').get_text()\n",
    "              \n",
    "    return salary"
   ]
  },
  {
   "cell_type": "code",
   "execution_count": 102,
   "metadata": {},
   "outputs": [],
   "source": [
    "def get_job_experience(soup):\n",
    "    i_tag = soup.find('i', {'class': 'fa fa-briefcase'})\n",
    "    if i_tag :\n",
    "        li_tag = i_tag.parent.parent\n",
    "        experience = li_tag.find('p').get_text().strip()\n",
    "        clean = re.sub(r'\\s+', ' ', experience)\n",
    "        experience = clean\n",
    "    else :experience = \"Không yêu cầu kinh nghiệm\"\n",
    "    \n",
    "    return experience"
   ]
  },
  {
   "cell_type": "code",
   "execution_count": 165,
   "metadata": {},
   "outputs": [],
   "source": [
    "def get_job_level(soup):\n",
    "    i_tag = soup.find('i', {'class': 'mdi mdi-account'})\n",
    "    if i_tag :\n",
    "        li_tag = i_tag.parent.parent\n",
    "        level = li_tag.find('p').get_text().strip()\n",
    "    else :level = None\n",
    "    \n",
    "    return level"
   ]
  },
  {
   "cell_type": "code",
   "execution_count": 109,
   "metadata": {},
   "outputs": [],
   "source": [
    "def get_job_expired_date(soup):\n",
    "    i_tag = soup.find('i', {'class': 'mdi mdi-calendar-check'})\n",
    "    if i_tag :\n",
    "        li_tag = i_tag.parent.parent\n",
    "        expired_date = li_tag.find('p').get_text().strip()\n",
    "    else :expired_date = None\n",
    "    \n",
    "    return expired_date"
   ]
  },
  {
   "cell_type": "code",
   "execution_count": 160,
   "metadata": {},
   "outputs": [],
   "source": [
    "def get_job_details(soup):\n",
    "    div_tag = soup.find('div', {'class': 'detail-row reset-bullet'})\n",
    "    # p_tags = div_tag.find_all('p')\n",
    "    # job_details = \"\"\n",
    "    # for p_tag in p_tags :\n",
    "    #     job_details = job_details + \"/n\" + p_tag.get_text()\n",
    "    job_details = div_tag.get_text(separator='\\n', strip=True)\n",
    "    \n",
    "    return job_details"
   ]
  },
  {
   "cell_type": "code",
   "execution_count": 161,
   "metadata": {},
   "outputs": [],
   "source": [
    "def get_job_required(soup):\n",
    "    selected_element = soup.select_one('#tab-1 > section > div:nth-child(4)')\n",
    "    job_required = selected_element.get_text(separator='\\n', strip=True)\n",
    "\n",
    "    return job_required"
   ]
  },
  {
   "cell_type": "code",
   "execution_count": 162,
   "metadata": {},
   "outputs": [
    {
     "name": "stdout",
     "output_type": "stream",
     "text": [
      "0 done\n",
      "1 done\n"
     ]
    }
   ],
   "source": [
    "# Khởi tạo trình duyệt Edge\n",
    "driver = webdriver.Edge()\n",
    "i = 0\n",
    "# Duyệt qua từng link và lấy thông tin\n",
    "for link in links:\n",
    "    # Mở trang web\n",
    "    driver.get(link)\n",
    "\n",
    "    # Chờ cho trang web tải xong\n",
    "    driver.implicitly_wait(10)\n",
    "\n",
    "    # Lấy HTML của trang web\n",
    "    html = driver.page_source\n",
    "\n",
    "    # Phân tích HTML bằng BeautifulSoup\n",
    "    soup = BeautifulSoup(html, 'html.parser')\n",
    "\n",
    "    #find job name\n",
    "    job_name = get_job_name(soup)\n",
    "    df['job_name'][i] = job_name\n",
    "    \n",
    "    #find company id\n",
    "    id_company = get_job_id_company(soup)\n",
    "    df['id_company'][i] = id_company\n",
    "    \n",
    "    #find company name\n",
    "    company_name = get_job_company_name(soup)\n",
    "    df['company_name'][i] = company_name\n",
    "    \n",
    "    #find job salary \n",
    "    job_salary = get_job_salary(soup)\n",
    "    df['job_salary'][i] = job_salary\n",
    "    \n",
    "    #find job experience\n",
    "    job_experience = get_job_experience(soup)\n",
    "    df['job_experience'][i] = job_experience\n",
    "    \n",
    "    #find job level\n",
    "    job_level = get_job_level(soup)\n",
    "    df['job_level'][i] = job_level\n",
    "    \n",
    "    #find job expired date\n",
    "    job_expired_date = get_job_expired_date(soup)\n",
    "    df['job_expired_date'][i] = job_expired_date\n",
    "    \n",
    "    #find job details\n",
    "    job_details = get_job_details(soup)\n",
    "    df['job_details'][i] = job_details\n",
    "    \n",
    "    #find job required information\n",
    "    job_required = get_job_required(soup)\n",
    "    df['job_required'][i] = job_required\n",
    "    \n",
    "    print(str(i)+ \" done\")\n",
    "    i = i + 1\n",
    "    df.to_csv('data_no_duplicates.csv', index=False)\n",
    "\n",
    "# Đóng trình duyệt\n",
    "driver.quit()\n"
   ]
  },
  {
   "cell_type": "markdown",
   "metadata": {},
   "source": [
    "# Convert CSV to JSON"
   ]
  },
  {
   "cell_type": "code",
   "execution_count": 164,
   "metadata": {},
   "outputs": [],
   "source": [
    "# Đọc dữ liệu từ file CSV hoặc thực hiện các bước để có DataFrame của bạn\n",
    "dfr = pd.read_csv('data_no_duplicates.csv')\n",
    "# Chuyển đổi DataFrame thành danh sách bản ghi\n",
    "records = dfr.to_dict(orient='records')\n",
    "\n",
    "# Chuyển đổi dữ liệu ngày thành định dạng chuẩn (ví dụ: ISO 8601)\n",
    "for record in records:\n",
    "    if 'job_expired_date' in record and pd.notna(record['job_expired_date']):\n",
    "        record['job_expired_date'] = pd.to_datetime(record['job_expired_date']).isoformat()\n",
    "    if 'job_experience' in record and pd.isna(record['job_experience']):\n",
    "        record['job_experience'] = None\n",
    "\n",
    "# Ghi vào file JSON mà không sử dụng Unicode Escape\n",
    "with open('job_data.json', 'w', encoding='utf-8') as json_file:\n",
    "    json.dump(records, json_file, ensure_ascii=False, indent=2)\n",
    "# Lưu DataFrame thành file JSON\n",
    "#dfr.to_json('test.json', orient='records', lines=True)"
   ]
  }
 ],
 "metadata": {
  "kernelspec": {
   "display_name": "Python 3",
   "language": "python",
   "name": "python3"
  },
  "language_info": {
   "codemirror_mode": {
    "name": "ipython",
    "version": 3
   },
   "file_extension": ".py",
   "mimetype": "text/x-python",
   "name": "python",
   "nbconvert_exporter": "python",
   "pygments_lexer": "ipython3",
   "version": "3.10.10"
  }
 },
 "nbformat": 4,
 "nbformat_minor": 2
}
