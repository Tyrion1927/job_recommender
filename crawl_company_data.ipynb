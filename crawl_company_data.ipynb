{
 "cells": [
  {
   "cell_type": "code",
   "execution_count": 32,
   "metadata": {},
   "outputs": [],
   "source": [
    "import pandas as pd\n",
    "from selenium import webdriver\n",
    "from bs4 import BeautifulSoup\n",
    "import re\n",
    "import json\n",
    "from lxml import html\n",
    "\n",
    "df = pd.read_csv('data_linkcompany_test.csv')\n",
    "# get links\n",
    "links = df['link']\n",
    "# create field \n",
    "df['company_name'] = ''\n",
    "df['company_address'] = ''\n",
    "df['company_size'] = ''\n",
    "df['company_website'] = ''\n",
    "df['company_type'] = ''\n",
    "df['company_details'] = ''"
   ]
  },
  {
   "cell_type": "code",
   "execution_count": 5,
   "metadata": {},
   "outputs": [],
   "source": [
    "def get_company_name(soup):\n",
    "    div_tag = soup.find('div', {'class': 'content'})\n",
    "    job_name = div_tag.find('h1', {'class': 'name'}).get_text()\n",
    "\n",
    "    return job_name"
   ]
  },
  {
   "cell_type": "code",
   "execution_count": 8,
   "metadata": {},
   "outputs": [],
   "source": [
    "def get_company_address(soup):\n",
    "    div_tag = soup.find('div', {'class': 'content'})\n",
    "    p_tag = div_tag.find('p')\n",
    "    company_address = p_tag.get_text()\n",
    "    \n",
    "    return company_address"
   ]
  },
  {
   "cell_type": "code",
   "execution_count": 28,
   "metadata": {},
   "outputs": [],
   "source": [
    "def get_company_size(soup):\n",
    "    span_tag = soup.find('span', {'class': 'mdi mdi-account-supervisor'})\n",
    "    if span_tag: \n",
    "        li_tag = span_tag.parent\n",
    "        company_size = li_tag.get_text().strip()\n",
    "        clean = re.sub(r'\\s+', ' ', company_size)\n",
    "        company_size = clean\n",
    "    else: company_size = \"\"\n",
    "    \n",
    "    return company_size"
   ]
  },
  {
   "cell_type": "code",
   "execution_count": 25,
   "metadata": {},
   "outputs": [],
   "source": [
    "def get_company_website(soup):\n",
    "    span_tag = soup.find('span', {'class': 'mdi mdi-link'})\n",
    "    if span_tag: \n",
    "        li_tag = span_tag.parent\n",
    "        company_link = li_tag.get_text().strip()\n",
    "        clean = re.sub(r'\\s+', ' ', company_link)\n",
    "        company_link = clean\n",
    "    else: company_link = \"\"\n",
    "\n",
    "    return company_link"
   ]
  },
  {
   "cell_type": "code",
   "execution_count": 26,
   "metadata": {},
   "outputs": [],
   "source": [
    "def get_company_type(soup):\n",
    "    span_tag = soup.find('span', {'class': 'mdi mdi-gavel'})   \n",
    "    if span_tag: \n",
    "        li_tag = span_tag.parent\n",
    "        company_type = li_tag.get_text().strip()\n",
    "        clean = re.sub(r'\\s+', ' ', company_type)\n",
    "        company_type = clean\n",
    "    else: company_type = \"\"\n",
    "\n",
    "    return company_type"
   ]
  },
  {
   "cell_type": "code",
   "execution_count": 30,
   "metadata": {},
   "outputs": [],
   "source": [
    "def get_company_details(soup):\n",
    "    div_tag = soup.find('div', {'class': 'intro-section intro-section-1'})\n",
    "    tag = div_tag.find('div', {'class': 'main-text'})\n",
    "    company_details = tag.get_text(separator='\\n', strip=True)\n",
    "    \n",
    "    return company_details"
   ]
  },
  {
   "cell_type": "code",
   "execution_count": 33,
   "metadata": {},
   "outputs": [
    {
     "name": "stdout",
     "output_type": "stream",
     "text": [
      "0 done\n",
      "1 done\n"
     ]
    }
   ],
   "source": [
    "# Khởi tạo trình duyệt Edge\n",
    "driver = webdriver.Edge()\n",
    "i = 0\n",
    "# Duyệt qua từng link và lấy thông tin\n",
    "for link in links:\n",
    "    # Mở trang web\n",
    "    driver.get(link)\n",
    "\n",
    "    # Chờ cho trang web tải xong\n",
    "    driver.implicitly_wait(10)\n",
    "\n",
    "    # Lấy HTML của trang web\n",
    "    html = driver.page_source\n",
    "\n",
    "    # Phân tích HTML bằng BeautifulSoup\n",
    "    soup = BeautifulSoup(html, 'html.parser')\n",
    "\n",
    "    #find company name\n",
    "    company_name = get_company_name(soup)\n",
    "    df['company_name'][i] = company_name\n",
    "    \n",
    "    #find company address\n",
    "    company_address = get_company_address(soup)\n",
    "    df['company_address'][i] = company_address\n",
    "    \n",
    "    #find company size\n",
    "    company_size = get_company_size(soup)\n",
    "    df['company_size'][i] = company_size\n",
    "    \n",
    "    #find company type\n",
    "    company_type = get_company_type(soup)\n",
    "    df['company_type'][i] = company_type\n",
    "    \n",
    "    #find company website\n",
    "    company_website = get_company_website(soup)\n",
    "    df['company_website'][i] = company_website\n",
    "    \n",
    "    #find company details\n",
    "    company_details = get_company_details(soup)\n",
    "    df['company_details'][i] = company_details\n",
    "    \n",
    "    print(str(i)+ \" done\")\n",
    "    i = i + 1\n",
    "    df.to_csv('data_company.csv', index=False)\n",
    "# Đóng trình duyệt\n",
    "driver.quit()\n"
   ]
  },
  {
   "cell_type": "markdown",
   "metadata": {},
   "source": [
    "# Convert csv to json"
   ]
  },
  {
   "cell_type": "code",
   "execution_count": null,
   "metadata": {},
   "outputs": [],
   "source": [
    "# Đọc dữ liệu từ file CSV hoặc thực hiện các bước để có DataFrame của bạn\n",
    "dfr = pd.read_csv('data_company.csv')\n",
    "# Chuyển đổi DataFrame thành danh sách bản ghi\n",
    "records = dfr.to_dict(orient='records')\n",
    "\n",
    "# Chuyển đổi dữ liệu ngày thành định dạng chuẩn (ví dụ: ISO 8601)\n",
    "for record in records:\n",
    "    if 'company_size' in record and pd.isna(record['company_size']):\n",
    "        record['company_size'] = None\n",
    "    if 'company_type' in record and pd.isna(record['company_type']):\n",
    "        record['company_type'] = None\n",
    "    if 'company_website' in record and pd.isna(record['company_website']):\n",
    "        record['company_website'] = None\n",
    "\n",
    "# Ghi vào file JSON mà không sử dụng Unicode Escape\n",
    "with open('company_data.json', 'w', encoding='utf-8') as json_file:\n",
    "    json.dump(records, json_file, ensure_ascii=False, indent=2)\n",
    "# Lưu DataFrame thành file JSON\n",
    "#dfr.to_json('test.json', orient='records', lines=True)"
   ]
  }
 ],
 "metadata": {
  "kernelspec": {
   "display_name": "Python 3",
   "language": "python",
   "name": "python3"
  },
  "language_info": {
   "codemirror_mode": {
    "name": "ipython",
    "version": 3
   },
   "file_extension": ".py",
   "mimetype": "text/x-python",
   "name": "python",
   "nbconvert_exporter": "python",
   "pygments_lexer": "ipython3",
   "version": "3.10.10"
  }
 },
 "nbformat": 4,
 "nbformat_minor": 2
}
